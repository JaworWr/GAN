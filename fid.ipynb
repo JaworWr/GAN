{
 "cells": [
  {
   "cell_type": "code",
   "execution_count": 1,
   "metadata": {},
   "outputs": [],
   "source": [
    "from utils.fid import FrechetInceptionDistance\n",
    "from models.conv_generator import ConvGenerator\n",
    "from data_loaders.mnist import MnistDataLoaderFactory\n",
    "from dotmap import DotMap\n",
    "from tqdm.notebook import tqdm\n",
    "import os"
   ]
  },
  {
   "cell_type": "code",
   "execution_count": 2,
   "metadata": {},
   "outputs": [],
   "source": [
    "config = DotMap()\n",
    "config.data = DotMap(root=\"/tmp/data\", batch_size=128)\n",
    "config.device = \"cpu\""
   ]
  },
  {
   "cell_type": "code",
   "execution_count": 3,
   "metadata": {},
   "outputs": [],
   "source": [
    "fid = FrechetInceptionDistance(config.device)\n",
    "dl = MnistDataLoaderFactory.get_data_loader(config)"
   ]
  },
  {
   "cell_type": "code",
   "execution_count": 4,
   "metadata": {},
   "outputs": [],
   "source": [
    "model_files = [f\"gen{i}.p\" for i in range(1, 4)]\n",
    "models = []\n",
    "for fname in model_files:\n",
    "    model = ConvGenerator(config)\n",
    "    model.load(os.path.join(\"trained_models\", fname), map_location=\"cpu\")\n",
    "    model.eval()\n",
    "    models.append(model)"
   ]
  },
  {
   "cell_type": "markdown",
   "metadata": {},
   "source": [
    "Get 20 batches (about 1200 samples)"
   ]
  },
  {
   "cell_type": "code",
   "execution_count": 5,
   "metadata": {},
   "outputs": [],
   "source": [
    "di = iter(dl)\n",
    "batches = [next(di) for _ in range(20)]"
   ]
  },
  {
   "cell_type": "code",
   "execution_count": null,
   "metadata": {},
   "outputs": [
    {
     "data": {
      "application/vnd.jupyter.widget-view+json": {
       "model_id": "dd8171557b334aadae73ada9f7727cbe",
       "version_major": 2,
       "version_minor": 0
      },
      "text/plain": [
       "HBox(children=(FloatProgress(value=0.0, max=20.0), HTML(value='')))"
      ]
     },
     "metadata": {},
     "output_type": "display_data"
    }
   ],
   "source": [
    "scores = []\n",
    "for model, path in zip(models, model_files):\n",
    "    for X_true in tqdm(batches):\n",
    "        X_fake = model.generate_batch(X_true.shape[0], config.device)\n",
    "        fid.add_batch(X_true, X_fake)\n",
    "    score = fid.calculate()\n",
    "    print(f\"{path}: {score:.4f}\")"
   ]
  },
  {
   "cell_type": "code",
   "execution_count": null,
   "metadata": {},
   "outputs": [],
   "source": []
  }
 ],
 "metadata": {
  "kernelspec": {
   "display_name": "Python 3 (Torch)",
   "language": "python",
   "name": "torch"
  },
  "language_info": {
   "codemirror_mode": {
    "name": "ipython",
    "version": 3
   },
   "file_extension": ".py",
   "mimetype": "text/x-python",
   "name": "python",
   "nbconvert_exporter": "python",
   "pygments_lexer": "ipython3",
   "version": "3.8.5"
  }
 },
 "nbformat": 4,
 "nbformat_minor": 4
}
